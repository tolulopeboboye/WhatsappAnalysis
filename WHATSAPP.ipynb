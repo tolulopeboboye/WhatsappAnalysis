{
 "cells": [
  {
   "cell_type": "code",
   "execution_count": 1,
   "metadata": {},
   "outputs": [],
   "source": [
    "import pandas as pd\n",
    "import re\n",
    "import matplotlib.pyplot as plt\n",
    "plt.style.use('ggplot')"
   ]
  },
  {
   "cell_type": "code",
   "execution_count": 2,
   "metadata": {},
   "outputs": [
    {
     "name": "stdout",
     "output_type": "stream",
     "text": [
      "5392\n"
     ]
    }
   ],
   "source": [
    "#Red txt data file \n",
    "with open(\"WhatsApp Chat with HEALTH VOLUNTEERS NAIJA.txt \", \"r\", encoding = \"utf-8\") as file:\n",
    "    chats = file.readlines()\n",
    "print(len(chats))"
   ]
  },
  {
   "cell_type": "code",
   "execution_count": 5,
   "metadata": {},
   "outputs": [
    {
     "name": "stdout",
     "output_type": "stream",
     "text": [
      "5392\n",
      "41\n"
     ]
    }
   ],
   "source": [
    "#Remove new lines\n",
    "chats = [line.strip() for line in chats]\n",
    "chats[:10]\n",
    "print(len(chats))\n",
    "\n",
    "#Getting join notification lines\n",
    "rifesh = [line for line in chats if  \"added\" in line]\n",
    "\n",
    "#Further cleaning\n",
    "#Remove empty lines\n",
    "rifesh = [line for line in rifesh if len(line) > 1]\n",
    "print(len(rifesh))"
   ]
  },
  {
   "cell_type": "code",
   "execution_count": 8,
   "metadata": {},
   "outputs": [
    {
     "data": {
      "text/plain": [
       "['12/16/19, 7:29 PM - +234 802 694 7473 added you',\n",
       " '12/18/19, 9:39 AM - +234 815 920 8044 added +234 903 191 7748',\n",
       " '12/21/19, 10:48 PM - +234 802 694 7473 added +234 806 650 4322',\n",
       " '12/23/19, 4:36 AM - +234 802 694 7473 added +234 806 005 6071, +234 813 712 1869, and +234 816 457 4530',\n",
       " '12/25/19, 7:47 AM - +234 803 531 8410: Rotimi am sure u v added weight now',\n",
       " 'Who added me to this group? Kini HVN??',\n",
       " 'Who added me to this group? Kini HVN??',\n",
       " '12/29/19, 6:09 AM - +234 802 694 7473 added +234 701 040 2110',\n",
       " '12/29/19, 6:12 AM - +234 802 694 7473 added +234 810 421 7439',\n",
       " '1/7/20, 1:27 PM - +234 802 694 7473 added +234 703 635 6587',\n",
       " '1/8/20, 3:59 PM - +234 802 694 7473 added +234 902 319 7888',\n",
       " '1/8/20, 3:59 PM - +234 802 694 7473 added +234 813 090 1321',\n",
       " '1/8/20, 5:31 PM - +234 802 694 7473 added +234 705 073 1755',\n",
       " '1/8/20, 7:25 PM - +234 802 694 7473 added +234 816 582 1129',\n",
       " '1/8/20, 7:47 PM - +234 802 694 7473 added +234 703 513 8523',\n",
       " '1/9/20, 6:52 AM - +234 802 694 7473 added +234 706 847 6460',\n",
       " '1/9/20, 7:15 PM - +234 802 694 7473 added +234 803 917 6755',\n",
       " '1/10/20, 7:56 AM - +234 811 769 0450 added +234 908 451 2478',\n",
       " '1/12/20, 6:57 AM - +234 802 694 7473 added +234 803 059 9113',\n",
       " '1/15/20, 3:23 PM - +234 802 694 7473 added +234 703 312 5473',\n",
       " '1/15/20, 3:37 PM - +234 802 694 7473 added +234 706 394 7692',\n",
       " '1/16/20, 4:54 PM - +234 802 694 7473 added +234 802 327 4156 and +234 813 404 6616',\n",
       " '1/17/20, 9:26 PM - +234 706 554 8316 added +234 905 711 8706',\n",
       " '1/19/20, 6:13 AM - +234 802 694 7473 added +234 818 838 7841',\n",
       " '1/20/20, 5:42 PM - +234 802 694 7473 added +234 805 354 2414',\n",
       " '1/26/20, 11:11 AM - +234 802 694 7473 added +234 816 582 1129',\n",
       " '1/26/20, 1:06 PM - +234 802 694 7473 added +234 703 541 5301',\n",
       " '1/27/20, 9:05 PM - +234 802 694 7473 added +234 813 802 9761',\n",
       " '1/29/20, 8:55 PM - +234 802 694 7473 added +234 706 835 9117',\n",
       " '1/29/20, 9:42 PM - +234 811 769 0450 added +234 806 374 8694',\n",
       " 'Computer literacy will be added advantage',\n",
       " 'Surgical experience will be added advantage',\n",
       " 'Computer literacy will be added advantage',\n",
       " '1/31/20, 4:19 PM - +234 802 694 7473 added +234 903 121 6273',\n",
       " '1/31/20, 4:26 PM - +234 802 694 7473 added +234 703 395 7143',\n",
       " '1/31/20, 7:40 PM - +234 802 694 7473 added +234 703 335 6970',\n",
       " '2/3/20, 9:49 PM - +234 811 769 0450 added +234 703 106 2441, +234 803 234 8006, and +234 806 755 0464',\n",
       " \"2/3/20, 10:08 PM - +234 802 694 7473: Welcome on board Bolade. You'll be added to the closed group for Oyo State\",\n",
       " '2/4/20, 8:36 PM - +234 802 694 7473 added +234 802 975 8782, +234 803 889 8133, and +234 813 411 8129',\n",
       " '2/6/20, 10:29 PM - +234 802 694 7473 added +234 807 556 5556',\n",
       " '2/6/20, 10:31 PM - +234 802 694 7473 added +234 909 680 4331']"
      ]
     },
     "execution_count": 8,
     "metadata": {},
     "output_type": "execute_result"
    }
   ],
   "source": [
    "added = [line for line in rifesh if  \"added\" in line]\n",
    "added"
   ]
  },
  {
   "cell_type": "code",
   "execution_count": 9,
   "metadata": {},
   "outputs": [
    {
     "data": {
      "text/plain": [
       "41"
      ]
     },
     "execution_count": 9,
     "metadata": {},
     "output_type": "execute_result"
    }
   ],
   "source": [
    "len(added)"
   ]
  },
  {
   "cell_type": "code",
   "execution_count": 10,
   "metadata": {},
   "outputs": [
    {
     "name": "stdout",
     "output_type": "stream",
     "text": [
      "5392\n",
      "4531\n"
     ]
    }
   ],
   "source": [
    "#Remove new lines\n",
    "chats = [line.strip() for line in chats]\n",
    "chats[:10]\n",
    "print(len(chats))\n",
    "\n",
    "#Clean out the join notification lines\n",
    "rifesh = [line for line in chats if not \"added\" in line]\n",
    "\n",
    "#Further cleaning\n",
    "#Remove empty lines\n",
    "rifesh = [line for line in rifesh if len(line) > 1]\n",
    "print(len(rifesh))"
   ]
  },
  {
   "cell_type": "code",
   "execution_count": 11,
   "metadata": {},
   "outputs": [
    {
     "name": "stdout",
     "output_type": "stream",
     "text": [
      "4531\n"
     ]
    }
   ],
   "source": [
    "#Remove even more auto lines\n",
    "rifesh = [line for line in rifesh if not \"You revoked\" in line]\n",
    "print(len(rifesh))"
   ]
  },
  {
   "cell_type": "code",
   "execution_count": 12,
   "metadata": {},
   "outputs": [
    {
     "data": {
      "text/plain": [
       "['12/30/19, 10:43 PM - +234 802 968 3044 left',\n",
       " '1/16/20, 2:38 AM - +234 803 917 6755: So sorry,May God protect what she left',\n",
       " '1/23/20, 4:52 PM - +234 816 582 1129 left',\n",
       " '2/3/20, 9:48 AM - +234 909 080 8617 left']"
      ]
     },
     "execution_count": 12,
     "metadata": {},
     "output_type": "execute_result"
    }
   ],
   "source": [
    "#Drop 'left-ers'\n",
    "left = [line for line in rifesh if line.endswith(\"left\")]\n",
    "left"
   ]
  },
  {
   "cell_type": "code",
   "execution_count": 13,
   "metadata": {},
   "outputs": [
    {
     "data": {
      "text/plain": [
       "4"
      ]
     },
     "execution_count": 13,
     "metadata": {},
     "output_type": "execute_result"
    }
   ],
   "source": [
    "len(left)"
   ]
  },
  {
   "cell_type": "code",
   "execution_count": 14,
   "metadata": {},
   "outputs": [
    {
     "name": "stdout",
     "output_type": "stream",
     "text": [
      "4527\n"
     ]
    }
   ],
   "source": [
    "#Remove all that 'left'\n",
    "rifesh = [line for line in rifesh if not line.endswith(\"left\")]\n",
    "print(len(rifesh))"
   ]
  },
  {
   "cell_type": "code",
   "execution_count": 15,
   "metadata": {},
   "outputs": [
    {
     "data": {
      "text/plain": [
       "2814"
      ]
     },
     "execution_count": 15,
     "metadata": {},
     "output_type": "execute_result"
    }
   ],
   "source": [
    "#Merge messages that belong together\n",
    "msgs = [] #message container\n",
    "pos = 0 #counter for position of msgs in the container\n",
    "\"\"\"\n",
    "Flow:\n",
    "For every line, see if it matches the expression which is starting with the format \"number(s)+slash\" eg \"12/\"\n",
    "If it does, it is a new line of conversion as they begin with dates, add it to msgs container\n",
    "Else, it is a continuation of the previous line, add it to the previous line and append to msgs, then pop previous line.\n",
    "\"\"\"\n",
    "for line in rifesh:\n",
    "    if re.findall(\"\\A\\d+[/]\", line):\n",
    "        msgs.append(line)\n",
    "        pos += 1\n",
    "    else:\n",
    "        take = msgs[pos-1] + \". \" + line\n",
    "        msgs.append(take)\n",
    "        msgs.pop(pos-1)\n",
    "\n",
    "len(msgs)"
   ]
  },
  {
   "cell_type": "code",
   "execution_count": 16,
   "metadata": {},
   "outputs": [
    {
     "data": {
      "text/plain": [
       "['2/12/18, 2:26 AM - +234 802 694 7473 created group \"HEALTH VOLUNTEERS NAIJA\"',\n",
       " '12/16/19, 7:29 PM - +234 802 694 7473: Welcome Tolulope  to the family. @2348054441077  pls do introduce yourself',\n",
       " '12/16/19, 7:32 PM - Tolulope: I am Tolulope Boboye. I am a Data Analyst. I joined this group to lend my own support to the community on health related programs..',\n",
       " '12/16/19, 7:33 PM - +234 803 498 2891: Hello Tolulope, welcome to our midst. ♥♥♥',\n",
       " '12/16/19, 7:33 PM - Tolulope: The pleasure is mine',\n",
       " '12/16/19, 7:34 PM - +234 808 900 7904: U welcome dear',\n",
       " '12/16/19, 7:35 PM - Tolulope: 🙂',\n",
       " '12/16/19, 7:42 PM - +234 802 694 7473: Welcome to the family bro']"
      ]
     },
     "execution_count": 16,
     "metadata": {},
     "output_type": "execute_result"
    }
   ],
   "source": [
    "msgs[1:9]"
   ]
  },
  {
   "cell_type": "code",
   "execution_count": 17,
   "metadata": {},
   "outputs": [
    {
     "data": {
      "text/plain": [
       "2812"
      ]
     },
     "execution_count": 17,
     "metadata": {},
     "output_type": "execute_result"
    }
   ],
   "source": [
    "#Drop first two lines: auto msg\n",
    "msgs = msgs[2:]\n",
    "len(msgs)"
   ]
  },
  {
   "cell_type": "code",
   "execution_count": 18,
   "metadata": {},
   "outputs": [
    {
     "data": {
      "text/plain": [
       "['12/17/19, 8:03 AM - +234 802 694 7473: Gudu morning ma',\n",
       " '12/17/19, 8:05 AM - +234 909 873 4227: 😁😌',\n",
       " '12/17/19, 8:06 AM - +234 909 873 4227: <Media omitted>',\n",
       " \"12/17/19, 8:07 AM - +234 909 873 4227: *subtle reminder*. Let's share this with our network please. This might be what someone needs\",\n",
       " \"12/17/19, 8:09 AM - +234 808 116 1152: Acknowledged ma'am.\"]"
      ]
     },
     "execution_count": 18,
     "metadata": {},
     "output_type": "execute_result"
    }
   ],
   "source": [
    "#peep message format so far\n",
    "msgs[50:55]"
   ]
  },
  {
   "cell_type": "code",
   "execution_count": 19,
   "metadata": {},
   "outputs": [
    {
     "name": "stdout",
     "output_type": "stream",
     "text": [
      "2812 2812 2812 2812\n"
     ]
    }
   ],
   "source": [
    "#make arrays of different parts of the messages\n",
    "Date = []\n",
    "Time = []\n",
    "Number_Author = []\n",
    "msg = []\n",
    "counter = 0\n",
    "for line in msgs:\n",
    "    x = line.split()\n",
    "    #Get the date\n",
    "    dating = x[0]\n",
    "    Date.append(dating.replace(',',''))\n",
    "    \n",
    "    #Get the time\n",
    "    timing = x[1] + \" \" +x[2]\n",
    "    Time.append(timing)\n",
    "    \n",
    "    #Get number\n",
    "    num = \" \".join(x[3:9]) #the parts numbers/names fall in\n",
    "    try:\n",
    "        match = re.search(r\"- ([^']*):\", num).group(1) #match between '- ' and ':' where they are per se\n",
    "        Number_Author.append(match)\n",
    "    except:\n",
    "        Number_Author.append(\"-\")\n",
    "        pass\n",
    "    #Get message\n",
    "    #num = \" \".join(x[3:8]) #num/name position\n",
    "    #match = re.search(r\"- ([^']*):\", num).group(1) #isolate the num/name per se\n",
    "    part = line.partition(match)[2] #partition according to the match and extract the last part, the msg\n",
    "    msging = part[2:] #strip off the first two characters as they are \": \"\n",
    "    msg.append(msging)\n",
    "    \n",
    "#     counter += 1\n",
    "#     print(counter)\n",
    "\n",
    "print(len(Date), len(Time), len(Number_Author), len(msg))"
   ]
  },
  {
   "cell_type": "code",
   "execution_count": 20,
   "metadata": {},
   "outputs": [
    {
     "data": {
      "text/html": [
       "<div>\n",
       "<style scoped>\n",
       "    .dataframe tbody tr th:only-of-type {\n",
       "        vertical-align: middle;\n",
       "    }\n",
       "\n",
       "    .dataframe tbody tr th {\n",
       "        vertical-align: top;\n",
       "    }\n",
       "\n",
       "    .dataframe thead th {\n",
       "        text-align: right;\n",
       "    }\n",
       "</style>\n",
       "<table border=\"1\" class=\"dataframe\">\n",
       "  <thead>\n",
       "    <tr style=\"text-align: right;\">\n",
       "      <th></th>\n",
       "      <th>Date</th>\n",
       "      <th>Time</th>\n",
       "      <th>Number_Author</th>\n",
       "      <th>msg</th>\n",
       "    </tr>\n",
       "  </thead>\n",
       "  <tbody>\n",
       "    <tr>\n",
       "      <th>0</th>\n",
       "      <td>12/16/19</td>\n",
       "      <td>7:29 PM</td>\n",
       "      <td>+234 802 694 7473</td>\n",
       "      <td>Welcome Tolulope  to the family. @234805444107...</td>\n",
       "    </tr>\n",
       "    <tr>\n",
       "      <th>1</th>\n",
       "      <td>12/16/19</td>\n",
       "      <td>7:32 PM</td>\n",
       "      <td>Tolulope</td>\n",
       "      <td>I am Tolulope Boboye. I am a Data Analyst. I j...</td>\n",
       "    </tr>\n",
       "    <tr>\n",
       "      <th>2</th>\n",
       "      <td>12/16/19</td>\n",
       "      <td>7:33 PM</td>\n",
       "      <td>+234 803 498 2891</td>\n",
       "      <td>Hello Tolulope, welcome to our midst. ♥♥♥</td>\n",
       "    </tr>\n",
       "    <tr>\n",
       "      <th>3</th>\n",
       "      <td>12/16/19</td>\n",
       "      <td>7:33 PM</td>\n",
       "      <td>Tolulope</td>\n",
       "      <td>The pleasure is mine</td>\n",
       "    </tr>\n",
       "    <tr>\n",
       "      <th>4</th>\n",
       "      <td>12/16/19</td>\n",
       "      <td>7:34 PM</td>\n",
       "      <td>+234 808 900 7904</td>\n",
       "      <td>U welcome dear</td>\n",
       "    </tr>\n",
       "  </tbody>\n",
       "</table>\n",
       "</div>"
      ],
      "text/plain": [
       "       Date     Time      Number_Author  \\\n",
       "0  12/16/19  7:29 PM  +234 802 694 7473   \n",
       "1  12/16/19  7:32 PM           Tolulope   \n",
       "2  12/16/19  7:33 PM  +234 803 498 2891   \n",
       "3  12/16/19  7:33 PM           Tolulope   \n",
       "4  12/16/19  7:34 PM  +234 808 900 7904   \n",
       "\n",
       "                                                 msg  \n",
       "0  Welcome Tolulope  to the family. @234805444107...  \n",
       "1  I am Tolulope Boboye. I am a Data Analyst. I j...  \n",
       "2          Hello Tolulope, welcome to our midst. ♥♥♥  \n",
       "3                               The pleasure is mine  \n",
       "4                                     U welcome dear  "
      ]
     },
     "execution_count": 20,
     "metadata": {},
     "output_type": "execute_result"
    }
   ],
   "source": [
    "#Put in a dataframe\n",
    "rifesh_df = pd.DataFrame()\n",
    "rifesh_df[\"Date\"] = Date\n",
    "rifesh_df[\"Time\"] = Time\n",
    "rifesh_df[\"Number_Author\"] = Number_Author\n",
    "rifesh_df[\"msg\"] = msg\n",
    "\n",
    "rifesh_df.head()"
   ]
  },
  {
   "cell_type": "code",
   "execution_count": 21,
   "metadata": {},
   "outputs": [
    {
     "data": {
      "text/plain": [
       "Text(0.5, 1.0, 'Top 10 Time of Engagement')"
      ]
     },
     "execution_count": 21,
     "metadata": {},
     "output_type": "execute_result"
    },
    {
     "data": {
      "image/png": "[encoded data removed]",
      "text/plain": [
       "<Figure size 432x288 with 1 Axes>"
      ]
     },
     "metadata": {
      "needs_background": "light"
     },
     "output_type": "display_data"
    }
   ],
   "source": [
    "toptimeengaged = rifesh_df.Time.value_counts(ascending=False).head(10)\n",
    "ax = toptimeengaged.plot(kind=\"bar\", color='Darkblue')\n",
    "ax.set_xlabel ('Time')\n",
    "ax.set_ylabel ('Frequency')\n",
    "ax.set_title(\"Top 10 Time of Engagement\")"
   ]
  },
  {
   "cell_type": "code",
   "execution_count": 22,
   "metadata": {},
   "outputs": [
    {
     "name": "stdout",
     "output_type": "stream",
     "text": [
      "+234 802 694 7473    340\n",
      "+234 808 097 6617    319\n",
      "+234 813 122 9553    166\n",
      "+234 811 769 0450    155\n",
      "+234 807 753 8091    150\n",
      "+234 909 873 4227    127\n",
      "+234 811 464 6613    103\n",
      "+234 802 226 8087     90\n",
      "+234 809 823 6782     81\n",
      "+234 706 554 8316     79\n",
      "Name: Number_Author, dtype: int64\n"
     ]
    },
    {
     "data": {
      "text/plain": [
       "Text(0.5, 1.0, 'Top 10 Users that sent more messages')"
      ]
     },
     "execution_count": 22,
     "metadata": {},
     "output_type": "execute_result"
    },
    {
     "data": {
      "image/png": "[encoded data removed]",
      "text/plain": [
       "<Figure size 432x288 with 1 Axes>"
      ]
     },
     "metadata": {
      "needs_background": "light"
     },
     "output_type": "display_data"
    }
   ],
   "source": [
    "top10messengers = rifesh_df.Number_Author.value_counts(ascending=False).head(10)\n",
    "print(top10messengers)\n",
    "ax = top10messengers.plot.barh(color='Darkblue')\n",
    "ax.set_xlabel ('Number of sent message')\n",
    "ax.set_ylabel(\"Users\")\n",
    "ax.set_title(\"Top 10 Users that sent more messages\")"
   ]
  },
  {
   "cell_type": "code",
   "execution_count": 23,
   "metadata": {},
   "outputs": [],
   "source": [
    "rifesh_df['Letter_Count'] = rifesh_df['msg'].apply(lambda s : len(s))\n",
    "rifesh_df['Word_Count'] = rifesh_df['msg'].apply(lambda s : len(s.split(' ')))"
   ]
  },
  {
   "cell_type": "code",
   "execution_count": 24,
   "metadata": {},
   "outputs": [
    {
     "data": {
      "text/html": [
       "<div>\n",
       "<style scoped>\n",
       "    .dataframe tbody tr th:only-of-type {\n",
       "        vertical-align: middle;\n",
       "    }\n",
       "\n",
       "    .dataframe tbody tr th {\n",
       "        vertical-align: top;\n",
       "    }\n",
       "\n",
       "    .dataframe thead th {\n",
       "        text-align: right;\n",
       "    }\n",
       "</style>\n",
       "<table border=\"1\" class=\"dataframe\">\n",
       "  <thead>\n",
       "    <tr style=\"text-align: right;\">\n",
       "      <th></th>\n",
       "      <th>Date</th>\n",
       "      <th>Time</th>\n",
       "      <th>Number_Author</th>\n",
       "      <th>msg</th>\n",
       "      <th>Letter_Count</th>\n",
       "      <th>Word_Count</th>\n",
       "    </tr>\n",
       "  </thead>\n",
       "  <tbody>\n",
       "    <tr>\n",
       "      <th>0</th>\n",
       "      <td>12/16/19</td>\n",
       "      <td>7:29 PM</td>\n",
       "      <td>+234 802 694 7473</td>\n",
       "      <td>Welcome Tolulope  to the family. @234805444107...</td>\n",
       "      <td>74</td>\n",
       "      <td>12</td>\n",
       "    </tr>\n",
       "    <tr>\n",
       "      <th>1</th>\n",
       "      <td>12/16/19</td>\n",
       "      <td>7:32 PM</td>\n",
       "      <td>Tolulope</td>\n",
       "      <td>I am Tolulope Boboye. I am a Data Analyst. I j...</td>\n",
       "      <td>131</td>\n",
       "      <td>25</td>\n",
       "    </tr>\n",
       "    <tr>\n",
       "      <th>2</th>\n",
       "      <td>12/16/19</td>\n",
       "      <td>7:33 PM</td>\n",
       "      <td>+234 803 498 2891</td>\n",
       "      <td>Hello Tolulope, welcome to our midst. ♥♥♥</td>\n",
       "      <td>41</td>\n",
       "      <td>7</td>\n",
       "    </tr>\n",
       "    <tr>\n",
       "      <th>3</th>\n",
       "      <td>12/16/19</td>\n",
       "      <td>7:33 PM</td>\n",
       "      <td>Tolulope</td>\n",
       "      <td>The pleasure is mine</td>\n",
       "      <td>20</td>\n",
       "      <td>4</td>\n",
       "    </tr>\n",
       "    <tr>\n",
       "      <th>4</th>\n",
       "      <td>12/16/19</td>\n",
       "      <td>7:34 PM</td>\n",
       "      <td>+234 808 900 7904</td>\n",
       "      <td>U welcome dear</td>\n",
       "      <td>14</td>\n",
       "      <td>3</td>\n",
       "    </tr>\n",
       "  </tbody>\n",
       "</table>\n",
       "</div>"
      ],
      "text/plain": [
       "       Date     Time      Number_Author  \\\n",
       "0  12/16/19  7:29 PM  +234 802 694 7473   \n",
       "1  12/16/19  7:32 PM           Tolulope   \n",
       "2  12/16/19  7:33 PM  +234 803 498 2891   \n",
       "3  12/16/19  7:33 PM           Tolulope   \n",
       "4  12/16/19  7:34 PM  +234 808 900 7904   \n",
       "\n",
       "                                                 msg  Letter_Count  Word_Count  \n",
       "0  Welcome Tolulope  to the family. @234805444107...            74          12  \n",
       "1  I am Tolulope Boboye. I am a Data Analyst. I j...           131          25  \n",
       "2          Hello Tolulope, welcome to our midst. ♥♥♥            41           7  \n",
       "3                               The pleasure is mine            20           4  \n",
       "4                                     U welcome dear            14           3  "
      ]
     },
     "execution_count": 24,
     "metadata": {},
     "output_type": "execute_result"
    }
   ],
   "source": [
    "rifesh_df.head()"
   ]
  },
  {
   "cell_type": "code",
   "execution_count": 25,
   "metadata": {},
   "outputs": [
    {
     "data": {
      "text/html": [
       "<div>\n",
       "<style scoped>\n",
       "    .dataframe tbody tr th:only-of-type {\n",
       "        vertical-align: middle;\n",
       "    }\n",
       "\n",
       "    .dataframe tbody tr th {\n",
       "        vertical-align: top;\n",
       "    }\n",
       "\n",
       "    .dataframe thead th {\n",
       "        text-align: right;\n",
       "    }\n",
       "</style>\n",
       "<table border=\"1\" class=\"dataframe\">\n",
       "  <thead>\n",
       "    <tr style=\"text-align: right;\">\n",
       "      <th></th>\n",
       "      <th>Date</th>\n",
       "      <th>Time</th>\n",
       "      <th>Number_Author</th>\n",
       "      <th>msg</th>\n",
       "    </tr>\n",
       "  </thead>\n",
       "  <tbody>\n",
       "    <tr>\n",
       "      <th>count</th>\n",
       "      <td>2812</td>\n",
       "      <td>2812</td>\n",
       "      <td>2812</td>\n",
       "      <td>2812</td>\n",
       "    </tr>\n",
       "    <tr>\n",
       "      <th>unique</th>\n",
       "      <td>58</td>\n",
       "      <td>872</td>\n",
       "      <td>125</td>\n",
       "      <td>2071</td>\n",
       "    </tr>\n",
       "    <tr>\n",
       "      <th>top</th>\n",
       "      <td>1/1/20</td>\n",
       "      <td>10:02 PM</td>\n",
       "      <td>+234 802 694 7473</td>\n",
       "      <td>&lt;Media omitted&gt;</td>\n",
       "    </tr>\n",
       "    <tr>\n",
       "      <th>freq</th>\n",
       "      <td>308</td>\n",
       "      <td>24</td>\n",
       "      <td>340</td>\n",
       "      <td>362</td>\n",
       "    </tr>\n",
       "  </tbody>\n",
       "</table>\n",
       "</div>"
      ],
      "text/plain": [
       "          Date      Time      Number_Author              msg\n",
       "count     2812      2812               2812             2812\n",
       "unique      58       872                125             2071\n",
       "top     1/1/20  10:02 PM  +234 802 694 7473  <Media omitted>\n",
       "freq       308        24                340              362"
      ]
     },
     "execution_count": 25,
     "metadata": {},
     "output_type": "execute_result"
    }
   ],
   "source": [
    "rifesh_df.describe(include='object')"
   ]
  },
  {
   "cell_type": "code",
   "execution_count": 26,
   "metadata": {},
   "outputs": [
    {
     "data": {
      "text/html": [
       "<div>\n",
       "<style scoped>\n",
       "    .dataframe tbody tr th:only-of-type {\n",
       "        vertical-align: middle;\n",
       "    }\n",
       "\n",
       "    .dataframe tbody tr th {\n",
       "        vertical-align: top;\n",
       "    }\n",
       "\n",
       "    .dataframe thead th {\n",
       "        text-align: right;\n",
       "    }\n",
       "</style>\n",
       "<table border=\"1\" class=\"dataframe\">\n",
       "  <thead>\n",
       "    <tr style=\"text-align: right;\">\n",
       "      <th></th>\n",
       "      <th>Letter_Count</th>\n",
       "      <th>Word_Count</th>\n",
       "    </tr>\n",
       "  </thead>\n",
       "  <tbody>\n",
       "    <tr>\n",
       "      <th>count</th>\n",
       "      <td>2812.000000</td>\n",
       "      <td>2812.000000</td>\n",
       "    </tr>\n",
       "    <tr>\n",
       "      <th>mean</th>\n",
       "      <td>62.011735</td>\n",
       "      <td>10.091394</td>\n",
       "    </tr>\n",
       "    <tr>\n",
       "      <th>std</th>\n",
       "      <td>296.470272</td>\n",
       "      <td>38.145313</td>\n",
       "    </tr>\n",
       "    <tr>\n",
       "      <th>min</th>\n",
       "      <td>0.000000</td>\n",
       "      <td>1.000000</td>\n",
       "    </tr>\n",
       "    <tr>\n",
       "      <th>25%</th>\n",
       "      <td>11.000000</td>\n",
       "      <td>2.000000</td>\n",
       "    </tr>\n",
       "    <tr>\n",
       "      <th>50%</th>\n",
       "      <td>17.000000</td>\n",
       "      <td>3.000000</td>\n",
       "    </tr>\n",
       "    <tr>\n",
       "      <th>75%</th>\n",
       "      <td>43.000000</td>\n",
       "      <td>8.000000</td>\n",
       "    </tr>\n",
       "    <tr>\n",
       "      <th>max</th>\n",
       "      <td>11898.000000</td>\n",
       "      <td>1223.000000</td>\n",
       "    </tr>\n",
       "  </tbody>\n",
       "</table>\n",
       "</div>"
      ],
      "text/plain": [
       "       Letter_Count   Word_Count\n",
       "count   2812.000000  2812.000000\n",
       "mean      62.011735    10.091394\n",
       "std      296.470272    38.145313\n",
       "min        0.000000     1.000000\n",
       "25%       11.000000     2.000000\n",
       "50%       17.000000     3.000000\n",
       "75%       43.000000     8.000000\n",
       "max    11898.000000  1223.000000"
      ]
     },
     "execution_count": 26,
     "metadata": {},
     "output_type": "execute_result"
    }
   ],
   "source": [
    "rifesh_df.describe()"
   ]
  },
  {
   "cell_type": "code",
   "execution_count": 27,
   "metadata": {},
   "outputs": [
    {
     "data": {
      "text/plain": [
       "(174377, 28377)"
      ]
     },
     "execution_count": 27,
     "metadata": {},
     "output_type": "execute_result"
    }
   ],
   "source": [
    "rifesh_df['Letter_Count'].sum(), rifesh_df['Word_Count'].sum()"
   ]
  },
  {
   "cell_type": "code",
   "execution_count": 28,
   "metadata": {},
   "outputs": [
    {
     "data": {
      "text/plain": [
       "Text(0.5, 1.0, 'Top 10 date of engagement')"
      ]
     },
     "execution_count": 28,
     "metadata": {},
     "output_type": "execute_result"
    },
    {
     "data": {
      "image/png": "[encoded data removed]",
      "text/plain": [
       "<Figure size 432x288 with 1 Axes>"
      ]
     },
     "metadata": {
      "needs_background": "light"
     },
     "output_type": "display_data"
    }
   ],
   "source": [
    "top10date = rifesh_df['Date'].value_counts().head(10)# Top 10 Dates on which the most number of messages were sent\n",
    "ax = top10date.plot.barh(color= 'Darkblue')\n",
    "ax.set_xlabel('Number of Messages')\n",
    "ax.set_ylabel('Date')\n",
    "ax.set_title('Top 10 date of engagement')"
   ]
  },
  {
   "cell_type": "code",
   "execution_count": 29,
   "metadata": {},
   "outputs": [],
   "source": [
    "rifesh_df['Hour'] = rifesh_df['Time'].apply(lambda x : x.split(':')[0]) # The first token of a value in the Time Column contains the hour (Eg., \"20\" in \"20:15\")"
   ]
  },
  {
   "cell_type": "code",
   "execution_count": 30,
   "metadata": {},
   "outputs": [
    {
     "data": {
      "text/plain": [
       "Text(0.5, 1.0, 'Top Hours of engagement by Users')"
      ]
     },
     "execution_count": 30,
     "metadata": {},
     "output_type": "execute_result"
    },
    {
     "data": {
      "image/png": "[encoded data removed]",
      "text/plain": [
       "<Figure size 432x288 with 1 Axes>"
      ]
     },
     "metadata": {
      "needs_background": "light"
     },
     "output_type": "display_data"
    }
   ],
   "source": [
    "top10hourtochat = rifesh_df['Hour'].value_counts().head(10).sort_index(ascending=False) # Top 10 Hours of the day during which the most number of messages were sent\n",
    "ax = top10hourtochat.plot.line(color='Darkblue')\n",
    "ax.set_xlabel('Hour of Day')\n",
    "ax.set_ylabel('Number of messages')\n",
    "ax.set_title('Top Hours of engagement by Users')"
   ]
  },
  {
   "cell_type": "code",
   "execution_count": 31,
   "metadata": {},
   "outputs": [
    {
     "data": {
      "text/plain": [
       "the                  731\n",
       "to                   715\n",
       "and                  511\n",
       "of                   451\n",
       "you                  374\n",
       "<Media               362\n",
       "omitted>             362\n",
       "in                   358\n",
       "a                    311\n",
       "for                  294\n",
       "is                   268\n",
       "I                    251\n",
       "are                  189\n",
       "we                   185\n",
       "be                   184\n",
       "this                 180\n",
       "with                 166\n",
       "your                 163\n",
       "our                  159\n",
       "on                   158\n",
       "will                 157\n",
       "that                 143\n",
       "Good                 128\n",
       "have                 123\n",
       "all                  119\n",
       "Thank                102\n",
       "Happy                 98\n",
       "my                    98\n",
       "Welcome               95\n",
       "us                    92\n",
       "                    ... \n",
       "Country                1\n",
       "mercy🙏                 1\n",
       "bit.ly/cksreg-20.      1\n",
       "62.                    1\n",
       "perseverance           1\n",
       "1st                    1\n",
       "FINNIDA:               1\n",
       "cup                    1\n",
       "Mrs                    1\n",
       "oo🤭                    1\n",
       "Repeating              1\n",
       "power                  1\n",
       "Abdulbasith            1\n",
       "members..              1\n",
       "2020!_.                1\n",
       "31/01/2020_            1\n",
       "_date_                 1\n",
       "far?                   1\n",
       "targeted               1\n",
       "event..                1\n",
       "Less                   1\n",
       "conquer                1\n",
       "🤔                      1\n",
       "💪🏾💪🏾💪🏾💪🏾               1\n",
       "times                  1\n",
       "@2348066504322.        1\n",
       "relationships....      1\n",
       "Event                  1\n",
       "door                   1\n",
       "🙌🙌🙌🙌                   1\n",
       "Length: 7441, dtype: int64"
      ]
     },
     "execution_count": 31,
     "metadata": {},
     "output_type": "execute_result"
    }
   ],
   "source": [
    "def gen_freq(text):\n",
    "    #Will store the list of words\n",
    "    word_list = []\n",
    "\n",
    "    #Loop over all the tweets and extract words into word_list\n",
    "    for tw_words in text.split():\n",
    "        word_list.extend(tw_words)\n",
    "\n",
    "    #Create word frequencies using word_list\n",
    "    word_freq = pd.Series(word_list).value_counts()\n",
    "\n",
    "    #Print top 20 words\n",
    "    word_freq[:20]\n",
    "    \n",
    "    return word_freq\n",
    "\n",
    "gen_freq(rifesh_df.msg.str)"
   ]
  },
  {
   "cell_type": "code",
   "execution_count": 32,
   "metadata": {},
   "outputs": [],
   "source": [
    "def clean_text(text):\n",
    "    #Remove RT\n",
    "    text = re.sub(r'RT', '', text)\n",
    "    \n",
    "    #Fix &\n",
    "    text = re.sub(r'&amp;', '&', text)\n",
    "    \n",
    "    #Remove punctuations\n",
    "    text = re.sub(r'[?!.;:,#@-]', '', text)\n",
    "    \n",
    "    #Remove unneccessary word\n",
    "    text = re.sub(r'omitted>', '', text)\n",
    "    text = re.sub(r'<media', '<', text)\n",
    "    text = re.sub(r'will', '', text)\n",
    "    text = re.sub(r'thanks', '', text)\n",
    "    \n",
    "    #Convert to lowercase to maintain consistency\n",
    "    text = text.lower()\n",
    "    return text"
   ]
  },
  {
   "cell_type": "code",
   "execution_count": null,
   "metadata": {},
   "outputs": [],
   "source": []
  }
 ],
 "metadata": {
  "kernelspec": {
   "display_name": "Python 3",
   "language": "python",
   "name": "python3"
  },
  "language_info": {
   "codemirror_mode": {
    "name": "ipython",
    "version": 3
   },
   "file_extension": ".py",
   "mimetype": "text/x-python",
   "name": "python",
   "nbconvert_exporter": "python",
   "pygments_lexer": "ipython3",
   "version": "3.7.3"
  }
 },
 "nbformat": 4,
 "nbformat_minor": 2
}
